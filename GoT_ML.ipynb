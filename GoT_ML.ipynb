{
 "cells": [
  {
   "cell_type": "code",
   "execution_count": 34,
   "metadata": {
    "collapsed": true
   },
   "outputs": [],
   "source": [
    "import pandas as pd\n",
    "import numpy as np\n",
    "from __future__ import division"
   ]
  },
  {
   "cell_type": "markdown",
   "metadata": {},
   "source": [
    "### Read in Data First"
   ]
  },
  {
   "cell_type": "code",
   "execution_count": 19,
   "metadata": {
    "collapsed": false
   },
   "outputs": [],
   "source": [
    "m = pd.read_csv(\"data/POV_data.csv\",index_col=0)"
   ]
  },
  {
   "cell_type": "code",
   "execution_count": 37,
   "metadata": {
    "collapsed": false
   },
   "outputs": [],
   "source": [
    "m_smoothed = m.copy()\n",
    "m_smoothed[\"AFFC\"] = (m[\"AFFC\"] + m[\"ADWD\"]) * (m[\"AFFC\"].sum() / m[[\"AFFC\",\"ADWD\"]].sum().sum())\n",
    "m_smoothed[\"ADWD\"] = (m[\"AFFC\"] + m[\"ADWD\"]) * (m[\"ADWD\"].sum() / m[[\"AFFC\",\"ADWD\"]].sum().sum())           "
   ]
  },
  {
   "cell_type": "code",
   "execution_count": 74,
   "metadata": {
    "collapsed": false
   },
   "outputs": [],
   "source": [
    "m_combined = m.ix[:,:4].copy()\n",
    "m_combined = m_combined.join(pd.DataFrame((m[\"AFFC\"] +m[\"ADWD\"])))\n",
    "m_combined.columns = [_ for _ in m_combined.columns if _!= 0] + [\"Book4_5\"]"
   ]
  },
  {
   "cell_type": "code",
   "execution_count": 76,
   "metadata": {
    "collapsed": true
   },
   "outputs": [],
   "source": [
    "m_val1 = m.ix[:9,:2].copy()\n",
    "m_val2 = m.ix[:12,:3].copy()"
   ]
  },
  {
   "cell_type": "markdown",
   "metadata": {},
   "source": [
    "## Fit model Next"
   ]
  },
  {
   "cell_type": "code",
   "execution_count": null,
   "metadata": {
    "collapsed": true
   },
   "outputs": [],
   "source": [
    "class GoT_Gibbs:\n",
    "    \n",
    "    def __init__(self,its):\n",
    "        \n",
    "    \n",
    "    def fit(self,M):\n",
    "    \n",
    "    \n",
    "    "
   ]
  }
 ],
 "metadata": {
  "kernelspec": {
   "display_name": "Python 2",
   "language": "python",
   "name": "python2"
  },
  "language_info": {
   "codemirror_mode": {
    "name": "ipython",
    "version": 2
   },
   "file_extension": ".py",
   "mimetype": "text/x-python",
   "name": "python",
   "nbconvert_exporter": "python",
   "pygments_lexer": "ipython2",
   "version": "2.7.10"
  }
 },
 "nbformat": 4,
 "nbformat_minor": 0
}
